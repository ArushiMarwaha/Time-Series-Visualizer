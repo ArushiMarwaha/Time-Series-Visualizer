{
  "nbformat": 4,
  "nbformat_minor": 0,
  "metadata": {
    "colab": {
      "provenance": [],
      "authorship_tag": "ABX9TyOmv3hoEMwx0RSkTgiQQd26",
      "include_colab_link": true
    },
    "kernelspec": {
      "name": "python3",
      "display_name": "Python 3"
    },
    "language_info": {
      "name": "python"
    }
  },
  "cells": [
    {
      "cell_type": "markdown",
      "metadata": {
        "id": "view-in-github",
        "colab_type": "text"
      },
      "source": [
        "<a href=\"https://colab.research.google.com/github/ArushiMarwaha/Time-Series-Visualizer/blob/main/timeseriesfcc.ipynb\" target=\"_parent\"><img src=\"https://colab.research.google.com/assets/colab-badge.svg\" alt=\"Open In Colab\"/></a>"
      ]
    },
    {
      "cell_type": "code",
      "execution_count": null,
      "metadata": {
        "id": "v-s-gh8NQabH"
      },
      "outputs": [],
      "source": [
        "import matplotlib.pyplot as plt\n",
        "import pandas as pd\n",
        "import seaborn as sns\n",
        "from pandas.plotting import register_matplotlib_converters\n",
        "\n",
        "register_matplotlib_converters()\n",
        "# Import data (Make sure to parse dates. Consider setting index column to 'date'.)\n",
        "df = pd.read_csv('/workspace/boilerplate-page-view-time-series-visualizer/fcc-forum-pageviews.csv', index_col='date', parse_dates=['date'])\n",
        "\n",
        "# Clean data\n",
        "df = df[(df.value > df.value.quantile(0.025)) & (df.value < df.value.quantile(0.975))]\n",
        "def draw_line_plot():\n",
        "    # Draw line plot\n",
        "\n",
        "    fig = df.plot.line(figsize=(15,5), color='red', legend=False);\n",
        "    plt.title('Daily freeCodeCamp Forum Page Views 5/2016-12/2019');\n",
        "    plt.xlabel('Date');\n",
        "    plt.xticks(rotation = 0)\n",
        "    plt.ylabel('Page Views');\n",
        "\n",
        "    fig = fig.figure\n",
        "\n",
        "    # Save image and return fig (don't change this part)\n",
        "    fig.savefig('line_plot.png')\n",
        "    return fig\n",
        "\n",
        "draw_line_plot()\n",
        "def draw_bar_plot():\n",
        "    # Copy and modify data for monthly bar plot\n",
        "    df_bar = df.copy()\n",
        "    df_bar['year'] = df.index.year\n",
        "    df_bar['month'] = df.index.month_name()\n",
        "\n",
        "    # grouping and orgenizing the df\n",
        "    df_bar_group = df_bar.groupby(['year', 'month'])['value'].mean()\n",
        "    df_bar_group = df_bar_group.unstack(level='month')\n",
        "    df_bar_group = df_bar_group[['January', 'February', 'March', 'April', 'May',\n",
        "                                'June', 'July', 'August', 'September', 'October', 'November', 'December']]\n",
        "\n",
        "    # Draw bar plot\n",
        "    fig = df_bar_group.plot.bar(figsize=(7,7)).figure\n",
        "    plt.xlabel('Years');\n",
        "    #plt.xticks(rotation = 0)\n",
        "    plt.ylabel('Average Page Views');\n",
        "    plt.legend(title='Months');\n",
        "\n",
        "    # Save image and return fig (don't change this part)\n",
        "    fig.savefig('bar_plot.png')\n",
        "    return fig\n",
        "\n",
        "draw_bar_plot()\n",
        "def draw_box_plot(df):\n",
        "    plt.figure(figsize=(12, 6))\n",
        "    plt.subplot(1, 2, 1)\n",
        "    df_box = df.loc[df.index.year == i for i in df.index.year.unique()]\n",
        "    sns.boxplot(data=df_box, x='year', y='value', ax=plt.gca())\n",
        "    plt.title('Year-wise Box Plot (Trend)')\n",
        "    plt.xlabel('Years')\n",
        "    plt.ylabel('Page Views')\n",
        "\n",
        "    plt.subplot(1, 2, 2)\n",
        "    df_box = df.loc[df.index.month == i for i in df.index.month.unique()]\n",
        "    sns.boxplot(data=df_box, x='month', y='value', ax=plt.gca())\n",
        "    plt.title('Month-wise Box Plot (Seasonality)')\n",
        "    plt.xlabel('Months')\n",
        "    plt.ylabel('Page Views')\n",
        "    plt.show()\n",
        "\n",
        "    # Save image and return fig (don't change this part)\n",
        "    fig.savefig('box_plot.png')\n",
        "    return fig\n",
        "\n"
      ]
    }
  ]
}